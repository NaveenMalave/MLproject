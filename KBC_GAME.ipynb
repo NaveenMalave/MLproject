{
  "cells": [
    {
      "cell_type": "markdown",
      "metadata": {
        "id": "view-in-github",
        "colab_type": "text"
      },
      "source": [
        "<a href=\"https://colab.research.google.com/github/NaveenMalave/MLproject/blob/main/KBC_GAME.ipynb\" target=\"_parent\"><img src=\"https://colab.research.google.com/assets/colab-badge.svg\" alt=\"Open In Colab\"/></a>"
      ]
    },
    {
      "cell_type": "code",
      "execution_count": null,
      "metadata": {
        "colab": {
          "background_save": true,
          "base_uri": "https://localhost:8080/"
        },
        "id": "J1EYOYatzQVa",
        "outputId": "5fd80ca7-c0eb-4295-932d-11a6272ff13a"
      },
      "outputs": [
        {
          "name": "stdout",
          "output_type": "stream",
          "text": [
            "welcome to the kbc game!\n",
            "1)Play game\n",
            "2)View score3)Exit\n",
            "hello s to the kbc game\n",
            "questions: when is th developer of python language\n",
            "1 dennis ritch\n",
            "wrong answer\n",
            "questions: when did india get independence\n",
            "1 1947\n"
          ]
        }
      ],
      "source": [
        "questions=[\n",
        "    'when is th developer of python language',\n",
        "    'when did india get independence',\n",
        "    'what is the currency in india',\n",
        "    'which state does bangalore belong to',\n",
        "    'what is th latest iphone'\n",
        "]\n",
        "answers=[\n",
        "    'guido van',\n",
        "    '1947',\n",
        "    'inr',\n",
        "    'karnataka',\n",
        "    'iphone12'\n",
        "]\n",
        "options=[\n",
        "    ['dennis ritch','alan frank','guide van','albert'],\n",
        "['1947','1995','2000','1950'],\n",
        "['pounds','dollars','euros','inr'],\n",
        "['karnataka','rajasthan','west bengal','assam'],\n",
        "['iphone se','iphone13','iphone11','iphone12']\n",
        "]\n",
        "def play_game(username,questions,answers,options):\n",
        "  print(\"hello\",username,\"to the kbc game\")\n",
        "  for i in range(len(questions)):\n",
        "    current_questions=questions[i]\n",
        "    current_answers=answers[i]\n",
        "    current_question_options=options[i]\n",
        "    print(\"questions:\",current_questions)\n",
        "    for index,each_option in enumerate(current_question_options):\n",
        "      print(index+1,each_option,sep=' ')\n",
        "      user_answer_index=int(input(\"enter your choice(1,2,3or4)=\"))\n",
        "      user_answer=current_question_options[user_answer_index-1]\n",
        "      if user_answer==current_answers:\n",
        "        print(\"correct answer\")\n",
        "        score = score + 100\n",
        "      else:\n",
        "          print(\"wrong answer\")\n",
        "          break\n",
        "          print(\"your final score is\",score)\n",
        "          return username,score\n",
        "\n",
        "\n",
        "def view_scores():\n",
        "        for name,score in names_and_scores.items():\n",
        "          print(name,\"has scored\",score)\n",
        "\n",
        "def KBC(questions,answers,options):\n",
        "          names_and_scores={}\n",
        "\n",
        "          while True:\n",
        "            print(\"welcome to the kbc game!\")\n",
        "            print(\"1)Play game\\n2)View score3)Exit\")\n",
        "            choice=int(input(\"please enter your choice\"))\n",
        "            if choice==1:\n",
        "              username=input(\"please enter your name:\")\n",
        "              username,score=play_game(username,questions,answers,options)\n",
        "              names_and_scores[username]=score\n",
        "            elif choice==2:\n",
        "                view_scores(names_and_scores)\n",
        "\n",
        "            elif choice==3:\n",
        "                break\n",
        "\n",
        "            else:\n",
        "                print(\"your choice is not valid\")\n",
        "\n",
        "KBC(questions,answers,options)\n",
        "\n"
      ]
    }
  ],
  "metadata": {
    "colab": {
      "provenance": [],
      "authorship_tag": "ABX9TyP8/amAuD3CbToqaGWeYY24",
      "include_colab_link": true
    },
    "kernelspec": {
      "display_name": "Python 3",
      "name": "python3"
    },
    "language_info": {
      "name": "python"
    }
  },
  "nbformat": 4,
  "nbformat_minor": 0
}